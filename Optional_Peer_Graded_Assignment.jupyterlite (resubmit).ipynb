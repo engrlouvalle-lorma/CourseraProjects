{
  "metadata": {
    "kernelspec": {
      "name": "python",
      "display_name": "Python (Pyodide)",
      "language": "python"
    },
    "language_info": {
      "codemirror_mode": {
        "name": "python",
        "version": 3
      },
      "file_extension": ".py",
      "mimetype": "text/x-python",
      "name": "python",
      "nbconvert_exporter": "python",
      "pygments_lexer": "ipython3",
      "version": "3.8"
    }
  },
  "nbformat_minor": 4,
  "nbformat": 4,
  "cells": [
    {
      "cell_type": "markdown",
      "source": "<p style=\"text-align:center\">\n    <a href=\"https://skills.network/?utm_medium=Exinfluencer&utm_source=Exinfluencer&utm_content=000026UJ&utm_term=10006555&utm_id=NA-SkillsNetwork-Channel-SkillsNetworkCoursesIBMDeveloperSkillsNetworkST0151ENSkillsNetwork20531532-2022-01-01\" target=\"_blank\">\n    <img src=\"https://cf-courses-data.s3.us.cloud-object-storage.appdomain.cloud/assets/logos/SN_web_lightmode.png\" width=\"200\" alt=\"Skills Network Logo\"  />\n    </a>\n</p>\n\n",
      "metadata": {}
    },
    {
      "cell_type": "markdown",
      "source": "#### Import the required libraries we need for the lab.\n",
      "metadata": {}
    },
    {
      "cell_type": "code",
      "source": "import piplite\nawait piplite.install(['numpy'],['pandas'])\nawait piplite.install(['seaborn'])",
      "metadata": {
        "trusted": true
      },
      "outputs": [],
      "execution_count": 2
    },
    {
      "cell_type": "code",
      "source": "import pandas as pd\nimport pandas as pd\nimport seaborn as sns\nimport matplotlib.pyplot as plt\nimport scipy.stats\nfrom scipy.stats import ttest_ind\nfrom scipy.stats import f_oneway\nimport statsmodels.api as sm\nfrom statsmodels.formula.api import ols",
      "metadata": {
        "trusted": true
      },
      "outputs": [],
      "execution_count": null
    },
    {
      "cell_type": "markdown",
      "source": "#### Read the dataset in the csv file from the URL\n",
      "metadata": {}
    },
    {
      "cell_type": "code",
      "source": "from js import fetch\nimport io\n\nURL = 'https://cf-courses-data.s3.us.cloud-object-storage.appdomain.cloud/IBMDeveloperSkillsNetwork-ST0151EN-SkillsNetwork/labs/boston_housing.csv'\nresp = await fetch(URL)\nboston_url = io.BytesIO((await resp.arrayBuffer()).to_py())",
      "metadata": {
        "trusted": true
      },
      "outputs": [],
      "execution_count": null
    },
    {
      "cell_type": "code",
      "source": "boston_df=pd.read_csv(boston_url)",
      "metadata": {
        "trusted": true
      },
      "outputs": [],
      "execution_count": null
    },
    {
      "cell_type": "markdown",
      "source": "#### Add your code below following the instructions given in the course to complete the peer graded assignment\n",
      "metadata": {}
    },
    {
      "cell_type": "markdown",
      "source": "## Task 1: Become familiar with the dataset",
      "metadata": {}
    },
    {
      "cell_type": "markdown",
      "source": "#### First, I will let us inspect the dataframe from the given codes above. We will just call the variable `boston_df`",
      "metadata": {}
    },
    {
      "cell_type": "code",
      "source": "boston_df",
      "metadata": {
        "trusted": true
      },
      "outputs": [],
      "execution_count": null
    },
    {
      "cell_type": "markdown",
      "source": "#### From this table, we can see that we have an unusual column name `Unnamed: 0` which contains the indices of the data. To resolve this, we can either remove the unusual column, or rename it as index and remove the index. In my project, I will rename it with `INDEX` for possible usability.",
      "metadata": {}
    },
    {
      "cell_type": "code",
      "source": "boston_df = boston_df.rename(columns={\"Unnamed: 0\":\"INDEX\"})\nboston_df",
      "metadata": {
        "trusted": true
      },
      "outputs": [],
      "execution_count": null
    },
    {
      "cell_type": "markdown",
      "source": "#### The data is ready.",
      "metadata": {}
    },
    {
      "cell_type": "markdown",
      "source": "According to the problem, here are the meanings of each variable. With the addition of the attribute `INDEX`\n\n* `INDEX` - order of the entry from the data frame starting with 0.\n* `CRIM` - per capita crime rate by town\n* `ZN` - proportion of residential land zoned for lots over 25,000 sq.ft.\n* `INDUS` - proportion of non-retail business acres per town.\n* `CHAS` - Charles River dummy variable (1 if tract bounds river; 0 otherwise)\n* `NOX` - nitric oxides concentration (parts per 10 million)\n* `RM` - average number of rooms per dwelling\n* `AGE` - proportion of owner-occupied units built prior to 1940\n* `DIS` - weighted distances to five Boston employment centres\n* `RAD` - index of accessibility to radial highways\n* `TAX` - full-value property-tax rate per 10,000 in dollars\n* `PTRATIO` - pupil-teacher ratio by town\n* `LSTAT` - % lower status of the population\n* `MEDV` - Median value of owner-occupied homes in 1,000 in dollars",
      "metadata": {}
    },
    {
      "cell_type": "markdown",
      "source": "## Task 2: Generate Descriptive Statistics and Visualizations",
      "metadata": {}
    },
    {
      "cell_type": "markdown",
      "source": "### Task 2.1. For the \"Median value of owner-occupied homes\" provide a boxplot.",
      "metadata": {}
    },
    {
      "cell_type": "markdown",
      "source": "#### To build the boxplot for the median value of owner-occupied homes, remember to use the function `sns.boxplot()` and that the median value of owner-occupied homes is coded as `MEDV` in the data frame `boston_df`.",
      "metadata": {}
    },
    {
      "cell_type": "code",
      "source": "sns.boxplot(data = boston_df[\"MEDV\"]).set_ylabel(\"Median Value ($ 1,000)\")\nplt.title(\"Median Values of Owner-Occupied Homes in Boston\")",
      "metadata": {
        "trusted": true
      },
      "outputs": [],
      "execution_count": null
    },
    {
      "cell_type": "markdown",
      "source": "We can see from the boxplot that the distribution is heavily positively skewed.",
      "metadata": {}
    },
    {
      "cell_type": "markdown",
      "source": "### Task 2.2. Provide a  bar plot for the Charles river variable.",
      "metadata": {}
    },
    {
      "cell_type": "markdown",
      "source": "#### To build the barplot for the Charles River variable, remember to use the function `sns.barplot()` and that the median value of owner-occupied homes is coded as `CHAS` in the data frame `boston_df`. However, it can not be plotted immediately, so we have to make a meta-data on the variable `CHAS` in a separate data frame.",
      "metadata": {}
    },
    {
      "cell_type": "markdown",
      "source": "#### Say build a separate data frame `charles_river` with two columns which are `Charles` which is the status and `Count`. Introduce the column `Charles` first with values 0 and 1.",
      "metadata": {}
    },
    {
      "cell_type": "code",
      "source": "charles_river = pd.DataFrame(columns = [\"Charles\",\"Count\"])\ncharles_river[\"Charles\"] = [0,1]\ncharles_river",
      "metadata": {
        "trusted": true
      },
      "outputs": [],
      "execution_count": null
    },
    {
      "cell_type": "markdown",
      "source": "#### First, change the structure of the `CHAS` variable into `int`",
      "metadata": {}
    },
    {
      "cell_type": "code",
      "source": "boston_df[\"CHAS\"] = boston_df[\"CHAS\"].astype(int)\nboston_df",
      "metadata": {
        "trusted": true
      },
      "outputs": [],
      "execution_count": null
    },
    {
      "cell_type": "markdown",
      "source": "#### Automate the counting using looping.",
      "metadata": {}
    },
    {
      "cell_type": "code",
      "source": "for status in charles_river[\"Charles\"]:\n    charles_river.iloc[status, 1] = sum(boston_df[\"CHAS\"] == status)\ncharles_river",
      "metadata": {
        "trusted": true
      },
      "outputs": [],
      "execution_count": null
    },
    {
      "cell_type": "markdown",
      "source": "#### Now, since the table for the `charles_river` has been built. We are ready to generate the bargraph.",
      "metadata": {}
    },
    {
      "cell_type": "code",
      "source": "sns.barplot(data = charles_river, x = \"Charles\", y = \"Count\").set_xticklabels([\"tract bounds river\",\"otherwise\"])\nplt.title('Comparison of Number of Homes that Bounds the Charles Rivers')\nplt.show()",
      "metadata": {
        "trusted": true
      },
      "outputs": [],
      "execution_count": null
    },
    {
      "cell_type": "markdown",
      "source": "The bar graph shows the comparison on the count of each Charles River dummy variable.",
      "metadata": {}
    },
    {
      "cell_type": "markdown",
      "source": "### Task 2.3. Provide a boxplot for the `MEDV` variable vs the `AGE` variable. (Discretize the age variable into three groups of 35 years and younger, between 35 and 70 years and 70 years and older)",
      "metadata": {}
    },
    {
      "cell_type": "markdown",
      "source": "#### For this task, we have to discretize first the AGE variable. However, so that the data will not be tampered, we can make a new variable, say `AGE_GRP` (or age group). For values less than 35, it will be categorized as `new`; between 35 and 70 years, it will be categorized as `mid`; and for 70 years and older, it will be categorized as `old`. Use 'pd.cut()` function.",
      "metadata": {}
    },
    {
      "cell_type": "code",
      "source": "boston_df[\"AGE_GRP\"] = pd.cut(boston_df[\"AGE\"], bins = [0,35,70,max(boston_df[\"AGE\"])], labels = [\"new\",\"mid\",\"old\"])\nboston_df",
      "metadata": {
        "trusted": true
      },
      "outputs": [],
      "execution_count": null
    },
    {
      "cell_type": "markdown",
      "source": "#### We have successfully created a categorization of the variable `AGE` by introducing a new column `AGE_GRP`. We can use this to graph the boxplots.",
      "metadata": {}
    },
    {
      "cell_type": "code",
      "source": "sns.boxplot(data = boston_df, x = \"AGE_GRP\", y = \"MEDV\")\nplt.title(\"Comaprison of Median Value of Homes according to age group\")\nplt.xlabel(\"Age Group\")\nplt.ylabel(\"Median Value\")\nplt.show()",
      "metadata": {
        "trusted": true
      },
      "outputs": [],
      "execution_count": null
    },
    {
      "cell_type": "markdown",
      "source": "It shows that the median value of older homes is somehow lower. Although, that can not be concluded with simple graphs.",
      "metadata": {}
    },
    {
      "cell_type": "markdown",
      "source": "### Task 2.4. Provide a scatter plot to show the relationship between Nitric oxide concentrations and the proportion of non-retail business acres per town. What can you say about the relationship?",
      "metadata": {}
    },
    {
      "cell_type": "markdown",
      "source": "#### Recall that the variable for Nitric Oxide Concentrations is `NOX` and the proportio of non-retail business acres per town is `INDUS`. Generate the scatter plot using `sns.scatterplot()`.",
      "metadata": {}
    },
    {
      "cell_type": "code",
      "source": "sns.scatterplot(data = boston_df, x = \"NOX\", y = \"INDUS\")\nplt.title(\"Scattergram of Nitrous Oxide Concentrations versus Proportion of Non-Retail Business Acres per Town\")\nplt.xlabel(\"NO2 Conentration\")\nplt.ylabel(\"Proportion of Non-Retail Business Acres\")",
      "metadata": {
        "trusted": true
      },
      "outputs": [],
      "execution_count": null
    },
    {
      "cell_type": "markdown",
      "source": "The scatterplot suggests there is a linear relationship between the two variables, however, we can not conclude yet.",
      "metadata": {}
    },
    {
      "cell_type": "markdown",
      "source": "### Task 2.5. Create a histogram for the pupil to teacher ratio variable.",
      "metadata": {}
    },
    {
      "cell_type": "markdown",
      "source": "#### Recall that the variable for pupil to ratio in the data frame is `PTRATIO`. We can generate the histogram by using the code `sns.histplot()`",
      "metadata": {}
    },
    {
      "cell_type": "code",
      "source": "sns.histplot(data = boston_df, x = \"PTRATIO\")",
      "metadata": {
        "trusted": true
      },
      "outputs": [],
      "execution_count": null
    },
    {
      "cell_type": "markdown",
      "source": "The histogram depics the distribution of the values of `PTRATIO`. We can improve the graph by setting the `bins`. By default, the value is automatically solved. But we can set it, say 10.",
      "metadata": {}
    },
    {
      "cell_type": "code",
      "source": "sns.histplot(data = boston_df, x = \"PTRATIO\", bins = 10)",
      "metadata": {
        "trusted": true
      },
      "outputs": [],
      "execution_count": null
    },
    {
      "cell_type": "markdown",
      "source": "We can also set the starting and end points of each interval. And clean up with a label.",
      "metadata": {}
    },
    {
      "cell_type": "code",
      "source": "sns.histplot(data = boston_df, x = \"PTRATIO\", bins = [12,14,16,18,20,22])\nplt.title(\"Distribution of the Pupil-to-Student Ratio in the nearest schools in Boston\")\nplt.xlabel(\"Pupil-to-Student Ratio\")\nplt.ylabel(\"Count\")",
      "metadata": {
        "trusted": true
      },
      "outputs": [],
      "execution_count": null
    },
    {
      "cell_type": "markdown",
      "source": "## Task 3: Use the appropriate tests to answer the questions provided.",
      "metadata": {}
    },
    {
      "cell_type": "markdown",
      "source": "### Question 1. Is there a significant difference in median value of houses bounded by the Charles river or not? (T-test for independent samples)",
      "metadata": {}
    },
    {
      "cell_type": "markdown",
      "source": "#### Recall the median value is coded `MEDV` and the `CHAS` variable is already normalized. The best way to retrieve the values separately first and apply the test.",
      "metadata": {}
    },
    {
      "cell_type": "markdown",
      "source": "Formulate the hypotheses as follows:\n* NULL: There is NO significant difference in median value of homes bounded by the Charles river than those which are not;\n* ALTERNATIVE: There is A significant difference in median value of homes bounded by the Charles river than those which are not.",
      "metadata": {}
    },
    {
      "cell_type": "code",
      "source": "charles0 = boston_df[boston_df[\"CHAS\"] == 0][\"MEDV\"]\ncharles1 = boston_df[boston_df[\"CHAS\"] == 1][\"MEDV\"]\n\nttest_ind(charles0, charles1)",
      "metadata": {
        "trusted": true
      },
      "outputs": [],
      "execution_count": null
    },
    {
      "cell_type": "markdown",
      "source": "Since the p-value is less than 0.05. There is enough evidence to reject the null hypothesis.\n\nTherefore, there is **A** significant difference between the median values of homes which are bounding the Charles River and those which are not.",
      "metadata": {}
    },
    {
      "cell_type": "markdown",
      "source": "### Question 2. Is there a difference in Median values of houses (MEDV) for each proportion of owner occupied units built prior to 1940 (AGE)? (ANOVA)",
      "metadata": {}
    },
    {
      "cell_type": "markdown",
      "source": "#### Since the variable `AGE_GRP` is already established, we can generate the results as follows:",
      "metadata": {}
    },
    {
      "cell_type": "markdown",
      "source": "Formulate the hypotheses as follows:\n* NULL: There is NO significant difference in median value of homes even according to age;\n* ALTERNATIVE1: There is A significant different in median value of homes that are categorized as `new` (less than 35 years old) than the others.\n* ALTERNATIVE2: There is A significant different in median value of homes that are categorized as `mid` (between 35 to 70 years old) than the others.\n* ALTERNATIVE3: There is A significant different in median value of homes that are categorized as `old` (older than 75 years) than the others.\n* ALTERNATIVE4: There is A significant different in median value of homes according to age.",
      "metadata": {}
    },
    {
      "cell_type": "code",
      "source": "ages = [group['MEDV'] for _, group in boston_df.groupby('AGE_GRP')]\nf_oneway(*ages)",
      "metadata": {
        "trusted": true
      },
      "outputs": [],
      "execution_count": null
    },
    {
      "cell_type": "markdown",
      "source": "Since the p-value is less than 0.05. There is enough evidence to reject the null hypothesis.\n\nTherefore, there IS significant difference between the median values of homes according to age.",
      "metadata": {}
    },
    {
      "cell_type": "markdown",
      "source": "### Question 3. Can we conclude that there is no relationship between Nitric oxide concentrations and proportion of non-retail business acres per town? (Pearson Correlation)",
      "metadata": {}
    },
    {
      "cell_type": "markdown",
      "source": "#### Remember the variables: `NOX` and `INDUS`",
      "metadata": {}
    },
    {
      "cell_type": "markdown",
      "source": "Formulate the hypotheses as follows:\n* NULL: There is NO correlation in the Nitric Oxide concentrations and Proportions of Non-retail Business Acres per Town;\n* ALTERNATIVE: There is A correlation in the Nitric Oxide concentrations and Proportions of Non-retail Business Acres per Town;",
      "metadata": {}
    },
    {
      "cell_type": "code",
      "source": "boston_df[\"NOX\"].corr(boston_df[\"INDUS\"])",
      "metadata": {
        "trusted": true
      },
      "outputs": [],
      "execution_count": null
    },
    {
      "cell_type": "markdown",
      "source": "We can not conclude yet if there is a significant relationship, but r = 0.764 suggests that there is a strong linear relationship between the two variables.",
      "metadata": {}
    },
    {
      "cell_type": "markdown",
      "source": "### Question 4. What is the impact of an additional weighted distance  to the five Boston employment centres on the median value of owner occupied homes? (Regression analysis)",
      "metadata": {}
    },
    {
      "cell_type": "markdown",
      "source": "#### Recall that the weighted distances to five Boston employment centres is coded `DIS`",
      "metadata": {}
    },
    {
      "cell_type": "markdown",
      "source": "Formulate the hypotheses as follows:\n* NULL: There is NO significant relationship in the additional weighted distance to the five Boston employment centres on the median value of owner occupied homes;\n* ALTERNATIVE: There is A significant relationship in the additional weighted distance to the five Boston employment centres on the median value of owner occupied homes",
      "metadata": {}
    },
    {
      "cell_type": "code",
      "source": "X = sm.add_constant(boston_df['DIS'])\nmodel = sm.OLS(boston_df['MEDV'], X).fit()\nprint(model.summary())",
      "metadata": {
        "trusted": true
      },
      "outputs": [],
      "execution_count": null
    },
    {
      "cell_type": "markdown",
      "source": "With this we can say that there is an effect of the distance to the median value, however, very weak at r² = 0.062.",
      "metadata": {}
    },
    {
      "cell_type": "markdown",
      "source": "## Author",
      "metadata": {}
    },
    {
      "cell_type": "markdown",
      "source": "Lou Benedic C. Valle, REE, RME, CSE-Prof., SO2, M.A.-Math",
      "metadata": {}
    }
  ]
}