# Data Science Tools and Ecosystem

In this notebook, Data Science Tools and Ecosystem are summarized.

Some of the popular languages that Data Scientists use are:
1. Python
2. R
3. SQL

Some of the commonly used libraries used by Data Scientists include:
1. NumPy
2. SciPy
3. SciKit-Learn

| Data Science Tools |
|:------------------:|
| TensorFlow |
| Weka |
| Pandas |

### Below are a few examples of evaluating arithmetic expressions in Python

5 * 4 + 3 - 2 / 1 #This a simple arithmetic expression to mutiply then add integers.

minutes = 200
hours = minutes / 60 #This will convert 200 minutes to hours by diving by 60
print(hours)

List popular languages for Data Science:
* Python
* R
* Java
* JavaScript
* C# / C++

## Author
Lou Benedic C. Valle, REE, RME, CSE-Prof., SO2, M.A.-Math
