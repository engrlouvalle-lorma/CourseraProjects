{
 "cells": [
  {
   "cell_type": "markdown",
   "id": "3d0dc94b-aa89-4d2e-9b3f-b34dba7db009",
   "metadata": {},
   "source": [
    "# Data Science Tools and Ecosystem"
   ]
  },
  {
   "cell_type": "markdown",
   "id": "6bb4276f-5293-46c7-b9ce-d057d9966683",
   "metadata": {},
   "source": [
    "In this notebook, Data Science Tools and Ecosystem are summarized."
   ]
  },
  {
   "cell_type": "markdown",
   "id": "9d7fd18b-eaf8-40ed-b62a-4a05ec06e413",
   "metadata": {},
   "source": [
    "Some of the popular languages that Data Scientists use are:\r\n",
    "1. Python\r\n",
    "2. R\r\n",
    "3. SQL"
   ]
  },
  {
   "cell_type": "markdown",
   "id": "e5ea9860-0eef-41b2-b3c9-d874bc8598a9",
   "metadata": {},
   "source": [
    "Some of the commonly used libraries used by Data Scientists include:\r\n",
    "1. NumPy\r\n",
    "2. SciPy\r\n",
    "3. SciKit-Learn"
   ]
  },
  {
   "cell_type": "markdown",
   "id": "7e278b92-da74-4358-a600-6d706be5d15c",
   "metadata": {},
   "source": [
    "| Data Science Tools |\r\n",
    "|:------------------:|\r\n",
    "| TensorFlow |\r\n",
    "| Weka |\r\n",
    "| Pands |\r\n"
   ]
  },
  {
   "cell_type": "markdown",
   "id": "5da6024b-1b67-4dc1-91ed-e6b6aab8dc3b",
   "metadata": {},
   "source": [
    "### Below are a few examples of evaluating arithmetic expressions in Python"
   ]
  },
  {
   "cell_type": "code",
   "execution_count": 1,
   "id": "c48fe20d-bfb2-47e1-8d9c-2948a7d0d33b",
   "metadata": {},
   "outputs": [
    {
     "data": {
      "text/plain": [
       "21.0"
      ]
     },
     "execution_count": 1,
     "metadata": {},
     "output_type": "execute_result"
    }
   ],
   "source": [
    "5 * 4 + 3 - 2 / 1 #This a simple arithmetic expression to mutiply then add integers."
   ]
  },
  {
   "cell_type": "code",
   "execution_count": 2,
   "id": "ebd09ba8-4584-4433-8d0d-33ae9902740b",
   "metadata": {},
   "outputs": [
    {
     "name": "stdout",
     "output_type": "stream",
     "text": [
      "3.3333333333333335\n"
     ]
    }
   ],
   "source": [
    "minutes = 200\n",
    "hours = minutes / 60 #This will convert 200 minutes to hours by diving by 60\n",
    "print(hours)"
   ]
  },
  {
   "cell_type": "markdown",
   "id": "bcd51a66-50a5-4b9f-a89c-80483d0891d5",
   "metadata": {},
   "source": [
    "List popular languages for Data Science:\r\n",
    "* Python\r\n",
    "* R\r\n",
    "* Java\r\n",
    "* JavaScript\r\n",
    "* C# / C++"
   ]
  },
  {
   "cell_type": "markdown",
   "id": "8839ec61-806b-43f9-9be5-1eb9a6b2eb69",
   "metadata": {},
   "source": [
    "## Author\n",
    "Lou Benedic C. Valle, REE, RME, CSE-Prof., SO2, M.A.-Math"
   ]
  }
 ],
 "metadata": {
  "kernelspec": {
   "display_name": "Python 3 (ipykernel)",
   "language": "python",
   "name": "python3"
  },
  "language_info": {
   "codemirror_mode": {
    "name": "ipython",
    "version": 3
   },
   "file_extension": ".py",
   "mimetype": "text/x-python",
   "name": "python",
   "nbconvert_exporter": "python",
   "pygments_lexer": "ipython3",
   "version": "3.11.7"
  }
 },
 "nbformat": 4,
 "nbformat_minor": 5
}
